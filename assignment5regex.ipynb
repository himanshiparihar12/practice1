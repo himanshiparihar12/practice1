{
 "cells": [
  {
   "cell_type": "code",
   "execution_count": 1,
   "id": "f6ec4d9b",
   "metadata": {},
   "outputs": [
    {
     "data": {
      "text/plain": [
       "'xxxxx'"
      ]
     },
     "execution_count": 1,
     "metadata": {},
     "output_type": "execute_result"
    }
   ],
   "source": [
    "#1 Define a function generate_n_chars() that takes an integer n and a character c and \n",
    "#returns a string, n characters long, consisting only of c:s. \n",
    "#For example, generate_n_chars(5,\"x\") should return the string \"xxxxx\". \n",
    "#Python is unusual in that you can actually write an expression 5 * \"x\" that will evaluate to\"xxxxx\". \n",
    "#For the sake of the exercise you should ignore that the problem can be solved in this manner.)\n",
    "\n",
    "def generate_n_chars(n,c):\n",
    "    s = ''\n",
    "    for i in range(n):\n",
    "        s+=c\n",
    "    return s\n",
    "generate_n_chars(5,'x')"
   ]
  },
  {
   "cell_type": "code",
   "execution_count": 5,
   "id": "b9572550",
   "metadata": {},
   "outputs": [
    {
     "name": "stdout",
     "output_type": "stream",
     "text": [
      "57\n"
     ]
    }
   ],
   "source": [
    "#The function max() from exercise 1) and the function max_of_three() from exercise 2) will only\n",
    "#work for two and three numbers, respectively. But suppose we have a much larger number of\n",
    "#numbers, or suppose we cannot tell in advance how many they are? Write a function max_in_list()\n",
    "#that takes a list of numbers and returns the largest one.\n",
    "def max_in(mylist):\n",
    "    max_value = mylist[0] \n",
    "    for i in mylist:\n",
    "        if i> max_value:\n",
    "            max_value = i\n",
    "    return max_value\n",
    "mylist=[10,30,25,57,4]\n",
    "print(max_in(mylist))"
   ]
  },
  {
   "cell_type": "code",
   "execution_count": 8,
   "id": "3ce90864",
   "metadata": {},
   "outputs": [
    {
     "name": "stdout",
     "output_type": "stream",
     "text": [
      "[8, 10, 7]\n"
     ]
    }
   ],
   "source": [
    "#Write a program that maps a list of words into a list of integers representing the lengths of the\n",
    "#correponding words.\n",
    "def mylist(l1):\n",
    "    new_list = []\n",
    "    for i in l1:\n",
    "        a = len(i)\n",
    "        new_list.append(a)\n",
    "    return new_list\n",
    "l1=[\"football\",\"basketball\",\"cricket\"]\n",
    "print(mylist(l1))"
   ]
  },
  {
   "cell_type": "code",
   "execution_count": 14,
   "id": "39ae73a6",
   "metadata": {},
   "outputs": [
    {
     "name": "stdout",
     "output_type": "stream",
     "text": [
      "longest word= 8\n"
     ]
    }
   ],
   "source": [
    "#Write a function find_longest_word() that takes a list of words and returns the length of the longest\n",
    "#one. Modify the same to do with lambda expression.\n",
    "def longest_word(l2):\n",
    "    for i in l2:\n",
    "        max_length = len(l2[0])\n",
    "        if len(i) > max_length:\n",
    "            max_length = len(i)\n",
    "    return max_length\n",
    "l2=[\"himanshi\",\"mitali\",\"divanshu\",\"dev\"]\n",
    "print(\"longest word = \",longest_word(l2))\n"
   ]
  },
  {
   "cell_type": "code",
   "execution_count": 23,
   "id": "f3928522",
   "metadata": {},
   "outputs": [
    {
     "name": "stdout",
     "output_type": "stream",
     "text": [
      "8\n"
     ]
    }
   ],
   "source": [
    "a=lambda x: max(len(i) for i in x)\n",
    "print(a(l2))"
   ]
  },
  {
   "cell_type": "code",
   "execution_count": 30,
   "id": "ebbc9a2a",
   "metadata": {},
   "outputs": [
    {
     "name": "stdout",
     "output_type": "stream",
     "text": [
      "['radhika']\n"
     ]
    }
   ],
   "source": [
    "#Write a function filter_long_words() that takes a list of words and an integer n and \n",
    "#returns the list of words that are longer than n. Modify the same to do with lambda expression.\n",
    "def filter_long_words(l1,num):\n",
    "    my_list=[]\n",
    "    for i in l2:\n",
    "        if len(i)>num:\n",
    "            my_list.append(i)\n",
    "    return my_list\n",
    "l2=[\"him\",\"deva\",\"radhika\"]\n",
    "print(filter_long_words(l2,6))"
   ]
  },
  {
   "cell_type": "code",
   "execution_count": 47,
   "id": "bae359e4",
   "metadata": {},
   "outputs": [
    {
     "name": "stdout",
     "output_type": "stream",
     "text": [
      "['radhika']\n"
     ]
    }
   ],
   "source": [
    "b=lambda x,n:[i for i in x  if len(i)>n]\n",
    "print(b(l2,5))"
   ]
  },
  {
   "cell_type": "code",
   "execution_count": null,
   "id": "7da93b4e",
   "metadata": {},
   "outputs": [],
   "source": []
  }
 ],
 "metadata": {
  "kernelspec": {
   "display_name": "Python 3",
   "language": "python",
   "name": "python3"
  },
  "language_info": {
   "codemirror_mode": {
    "name": "ipython",
    "version": 3
   },
   "file_extension": ".py",
   "mimetype": "text/x-python",
   "name": "python",
   "nbconvert_exporter": "python",
   "pygments_lexer": "ipython3",
   "version": "3.8.8"
  }
 },
 "nbformat": 4,
 "nbformat_minor": 5
}
