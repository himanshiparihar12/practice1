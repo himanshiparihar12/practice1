{
 "cells": [
  {
   "cell_type": "code",
   "execution_count": 1,
   "id": "e94d4bf6",
   "metadata": {},
   "outputs": [
    {
     "name": "stdout",
     "output_type": "stream",
     "text": [
      "\n",
      "1\n",
      "12\n",
      "123\n",
      "1234\n"
     ]
    }
   ],
   "source": [
    "#pattern=1\n",
    "for i in range(1,6):\n",
    "    for j in range(1,i):\n",
    "        print(j,end=\"\") \n",
    "    print(\"\")"
   ]
  },
  {
   "cell_type": "code",
   "execution_count": 2,
   "id": "44d39349",
   "metadata": {},
   "outputs": [
    {
     "name": "stdout",
     "output_type": "stream",
     "text": [
      "1 \n",
      "2 3 \n",
      "4 5 6 \n",
      "7 8 9 10 \n"
     ]
    }
   ],
   "source": [
    "#pattern=2\n",
    "a=1\n",
    "for i in range(1,5):\n",
    "    for j in range(0,i):\n",
    "        print(a,end=\" \")\n",
    "        a+=1\n",
    "    print(\"\")"
   ]
  },
  {
   "cell_type": "code",
   "execution_count": 3,
   "id": "54027a85",
   "metadata": {},
   "outputs": [
    {
     "name": "stdout",
     "output_type": "stream",
     "text": [
      "\n",
      "10 \n",
      "9 8 \n",
      "7 6 5 \n",
      "4 3 2 1 \n"
     ]
    }
   ],
   "source": [
    "#pattern=3\n",
    "a=10\n",
    "for i in range(0,5):\n",
    "    for j in range(1,i+1):\n",
    "        print(a,end=\" \")\n",
    "        a-=1\n",
    "    print(\"\")"
   ]
  },
  {
   "cell_type": "code",
   "execution_count": 8,
   "id": "74b91f45",
   "metadata": {},
   "outputs": [
    {
     "name": "stdout",
     "output_type": "stream",
     "text": [
      "\n",
      "\n",
      "A \n",
      "B C \n",
      "D E F \n",
      "G H I J \n"
     ]
    }
   ],
   "source": [
    "#pattern=4\n",
    "a=65\n",
    "for i in range(0,6):\n",
    "    for j in range(1,i):\n",
    "        print(chr(a),end=\" \")\n",
    "        a+=1\n",
    "    print(\"\")"
   ]
  },
  {
   "cell_type": "code",
   "execution_count": 9,
   "id": "7a3585fe",
   "metadata": {},
   "outputs": [
    {
     "name": "stdout",
     "output_type": "stream",
     "text": [
      "A\n",
      "AB\n",
      "ABC\n",
      "ABCD\n",
      "ABCDE\n"
     ]
    }
   ],
   "source": [
    "#pattern=5\n",
    "for i in range(1,6):\n",
    "    for j in range(65,65+i):\n",
    "        print(chr(j),end=\"\")\n",
    "    print(\"\")"
   ]
  },
  {
   "cell_type": "code",
   "execution_count": 10,
   "id": "477d9114",
   "metadata": {},
   "outputs": [
    {
     "name": "stdout",
     "output_type": "stream",
     "text": [
      "Z \n",
      "X V \n",
      "T R P \n"
     ]
    }
   ],
   "source": [
    "#pattern=6\n",
    "a=90\n",
    "for i in range(0,3):\n",
    "    for j in range(i+1):\n",
    "        print(chr(a),end=\" \")\n",
    "        a-=2\n",
    "    print(\"\")"
   ]
  },
  {
   "cell_type": "code",
   "execution_count": 11,
   "id": "75bdc6a9",
   "metadata": {},
   "outputs": [
    {
     "name": "stdout",
     "output_type": "stream",
     "text": [
      "\n",
      "1 a \n",
      "2 b 3 c \n",
      "4 d 5 e 6 f \n",
      "7 g 8 h 9 i 10 j \n"
     ]
    }
   ],
   "source": [
    "#pattern=7\n",
    "a=97\n",
    "b=1\n",
    "for i in range(0,5):\n",
    "    for j in range(1,i+1):\n",
    "        print(b,chr(a),end=\" \")\n",
    "        a+=1\n",
    "        b+=1\n",
    "    print(\"\")\n",
    "    "
   ]
  },
  {
   "cell_type": "code",
   "execution_count": 14,
   "id": "48188e55",
   "metadata": {},
   "outputs": [
    {
     "name": "stdout",
     "output_type": "stream",
     "text": [
      "Enter the height of traiangle : 6\n",
      "Enter the symbol you want to use : *\n",
      "* \n",
      "* * \n",
      "*   *\n",
      "*     *\n",
      "*       *\n",
      "* * * * * * \n"
     ]
    }
   ],
   "source": [
    "# right angle triangle with pattern with space \n",
    "n = int(input(\"Enter the height of traiangle : \")) \n",
    "string = input(\"Enter the symbol you want to use : \") \n",
    "m = n \n",
    "if n >= 2:\n",
    "    for i in range(1,3): \n",
    "        for j in range(1,i+1):\n",
    "            print(string,end=\" \") \n",
    "        print()\n",
    "    n-=2\n",
    "    k=1\n",
    "    if n!=0:\n",
    "        for i in range(1,n):\n",
    "            print(f\"{string}{k * '  '} {string}\") \n",
    "            k+=1 \n",
    "        print(f\"{string} \" *m)  \n",
    "else: \n",
    "    print(\"Please enter height greater than or equal to 2\")"
   ]
  },
  {
   "cell_type": "code",
   "execution_count": 13,
   "id": "76c2f4cf",
   "metadata": {},
   "outputs": [
    {
     "name": "stdout",
     "output_type": "stream",
     "text": [
      "enter any number=7\n",
      "7 is a prime number\n"
     ]
    }
   ],
   "source": [
    "#check a number whether it is prime number or not\n",
    "num=int(input(\"enter any number=\"))\n",
    "if num > 1:\n",
    "    for i in range(2, (num//2)+1):\n",
    "        if (num % i) == 0:\n",
    "            print(num, \"is not a prime number\")\n",
    "    else:\n",
    "        print(num, \"is a prime number\")\n",
    "else:\n",
    "    print(num, \"is not a prime number\")"
   ]
  },
  {
   "cell_type": "code",
   "execution_count": null,
   "id": "d182689d",
   "metadata": {},
   "outputs": [],
   "source": []
  }
 ],
 "metadata": {
  "kernelspec": {
   "display_name": "Python 3",
   "language": "python",
   "name": "python3"
  },
  "language_info": {
   "codemirror_mode": {
    "name": "ipython",
    "version": 3
   },
   "file_extension": ".py",
   "mimetype": "text/x-python",
   "name": "python",
   "nbconvert_exporter": "python",
   "pygments_lexer": "ipython3",
   "version": "3.8.8"
  }
 },
 "nbformat": 4,
 "nbformat_minor": 5
}
