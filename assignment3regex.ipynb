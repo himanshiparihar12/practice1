{
 "cells": [
  {
   "cell_type": "code",
   "execution_count": 4,
   "id": "51a04ed1",
   "metadata": {},
   "outputs": [
    {
     "name": "stdout",
     "output_type": "stream",
     "text": [
      "1234*\n",
      "567**\n",
      "89***\n",
      "10****\n",
      "*****\n"
     ]
    }
   ],
   "source": [
    "#pattern=1\n",
    "a=1\n",
    "for i in range(0,5):\n",
    "    for j in range(i,4):\n",
    "        print(a,end=\"\")\n",
    "        a+=1\n",
    "    for k in range(0,i+1):\n",
    "        print(\"*\",end=\"\")\n",
    "    print(\"\")"
   ]
  },
  {
   "cell_type": "code",
   "execution_count": 6,
   "id": "c34d1cda",
   "metadata": {},
   "outputs": [
    {
     "name": "stdout",
     "output_type": "stream",
     "text": [
      "A B C D 1 \n",
      "E F G 2 3 \n",
      "H I 4 5 6 \n",
      "J 7 8 9 10 \n"
     ]
    }
   ],
   "source": [
    "#pattern=2\n",
    "a=65\n",
    "b=1\n",
    "for i in range(0,4):\n",
    "    for j in range(i,4):\n",
    "        print(chr(a),end=\" \")\n",
    "        a+=1\n",
    "    for k in range(0,i+1):\n",
    "        print(b,end=\" \")\n",
    "        b+=1\n",
    "    print(\"\")"
   ]
  },
  {
   "cell_type": "code",
   "execution_count": 42,
   "id": "dc0b42ba",
   "metadata": {},
   "outputs": [
    {
     "name": "stdout",
     "output_type": "stream",
     "text": [
      "        A  \n",
      "      B C  \n",
      "    D E F  \n",
      "  G H I J  \n"
     ]
    }
   ],
   "source": [
    "#pattern=3\n",
    "a=65\n",
    "for i in range(1,5):\n",
    "    for j in range(i,5):\n",
    "        print(\" \",end=\" \")\n",
    "    for k in range(1,i+1):\n",
    "        print(chr(a),end=\" \")\n",
    "        a+=1\n",
    "    print(\" \")"
   ]
  },
  {
   "cell_type": "code",
   "execution_count": null,
   "id": "68c2e79a",
   "metadata": {},
   "outputs": [],
   "source": []
  },
  {
   "cell_type": "code",
   "execution_count": 39,
   "id": "b80e7265",
   "metadata": {},
   "outputs": [
    {
     "name": "stdout",
     "output_type": "stream",
     "text": [
      "A B C D \n",
      "A B C 1 \n",
      "A B 1 2 \n",
      "A 1 2 3 \n",
      "1 2 3 4 \n"
     ]
    }
   ],
   "source": [
    "#pattern=4\n",
    "a=65\n",
    "for i in range(0,5):\n",
    "    for j in range(i,4):\n",
    "        print(chr(a),end=\" \")\n",
    "        a+=1\n",
    "    a=65\n",
    "    for k in range(1,i+1):\n",
    "        print(k,end=\" \")\n",
    "    print(\"\")"
   ]
  },
  {
   "cell_type": "code",
   "execution_count": 44,
   "id": "19395438",
   "metadata": {},
   "outputs": [
    {
     "name": "stdout",
     "output_type": "stream",
     "text": [
      "    A \n",
      "   B C \n",
      "  D E F \n",
      " G H I J \n"
     ]
    }
   ],
   "source": [
    "#pattern=5\n",
    "a = 65\n",
    "for i in range(1,5):\n",
    "    for j in range(i,5):\n",
    "        print(\"\",end=\" \")\n",
    "    for k in range(1,i+1):\n",
    "        print(chr(a),end=\" \")\n",
    "        a+=1\n",
    "    print()"
   ]
  },
  {
   "cell_type": "code",
   "execution_count": 54,
   "id": "049f8540",
   "metadata": {},
   "outputs": [
    {
     "name": "stdout",
     "output_type": "stream",
     "text": [
      "    *  \n",
      "   * *  \n",
      "  * * *  \n",
      " * * * *  \n"
     ]
    }
   ],
   "source": [
    "#pattern=6\n",
    "for i in range(1,5):\n",
    "    for j in range(i,5):\n",
    "        print(\"\",end=\" \")\n",
    "    for k in range(1,i+1):\n",
    "        print(\"*\",end=\" \")\n",
    "    print(\" \")"
   ]
  },
  {
   "cell_type": "code",
   "execution_count": 10,
   "id": "9cc0de32",
   "metadata": {},
   "outputs": [
    {
     "name": "stdout",
     "output_type": "stream",
     "text": [
      " * * * * *  \n",
      "   * * *  \n",
      "     *  \n"
     ]
    }
   ],
   "source": [
    "#pattern=7\n",
    "for i in range(1,6):\n",
    "    if i%2!=0:\n",
    "        for k in range(i):\n",
    "            print(\" \",end=\"\")\n",
    "        for j in range(6-i):\n",
    "            print(\"*\",end=\" \")\n",
    "        print(\" \")"
   ]
  },
  {
   "cell_type": "code",
   "execution_count": null,
   "id": "4aa1d0f1",
   "metadata": {},
   "outputs": [],
   "source": [
    "\n",
    "    "
   ]
  }
 ],
 "metadata": {
  "kernelspec": {
   "display_name": "Python 3",
   "language": "python",
   "name": "python3"
  },
  "language_info": {
   "codemirror_mode": {
    "name": "ipython",
    "version": 3
   },
   "file_extension": ".py",
   "mimetype": "text/x-python",
   "name": "python",
   "nbconvert_exporter": "python",
   "pygments_lexer": "ipython3",
   "version": "3.8.8"
  }
 },
 "nbformat": 4,
 "nbformat_minor": 5
}
