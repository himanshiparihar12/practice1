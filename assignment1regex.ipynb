{
 "cells": [
  {
   "cell_type": "code",
   "execution_count": 1,
   "id": "52bfb2d6",
   "metadata": {},
   "outputs": [
    {
     "name": "stdout",
     "output_type": "stream",
     "text": [
      "Enter the number of units: 100\n",
      "Total price for 100 units is 1500 Rs.\n"
     ]
    }
   ],
   "source": [
    "#user input on number of unit in integer\n",
    "#- for the starting 10 unit price is 50 rs each\n",
    "#- for the next 20 unit price is 20 rs each\n",
    "#- for the rest of unit price will be 10rs\n",
    "#calculate the total price\n",
    "units = int(input(\"Enter the number of units: \"))\n",
    "\n",
    "if units <= 10:\n",
    "    total_price = units * 50\n",
    "elif units <= 20:\n",
    "    total_price = 10 * 50 + (units - 10) * 20\n",
    "else:\n",
    "    total_price = 10 * 50 + 10 * 20 + (units - 20) * 10\n",
    "\n",
    "print(\"Total price for\", units, \"units is\", total_price, \"Rs.\")"
   ]
  },
  {
   "cell_type": "code",
   "execution_count": 2,
   "id": "e8180fc2",
   "metadata": {},
   "outputs": [
    {
     "name": "stdout",
     "output_type": "stream",
     "text": [
      "enter the first side=23 \n",
      "enter the second side=45\n",
      "enter the third side=65\n",
      "yes it will create a triangle\n"
     ]
    }
   ],
   "source": [
    "#take 3 number as input from a user as 3 side of a triangle\n",
    "#and check whether it will create a triagle or not\n",
    "a=float(input(\"enter the first side=\"))\n",
    "b=float(input(\"enter the second side=\"))\n",
    "c=float(input(\"enter the third side=\"))\n",
    "\n",
    "if( a+b>c and b+c>a and a+c>b):\n",
    "    print(\"yes it will create a triangle\")\n",
    "else:\n",
    "    print(\"it cannot make a triangle\")"
   ]
  },
  {
   "cell_type": "code",
   "execution_count": 3,
   "id": "a529a469",
   "metadata": {},
   "outputs": [
    {
     "name": "stdout",
     "output_type": "stream",
     "text": [
      "Enter two numbers : 2 6\n",
      "At least one of them [2, 6] is not divisible by 6\n"
     ]
    }
   ],
   "source": [
    "#Take two number from the user and check whether both the number are divisble \n",
    "#by 6 ( divisibility rule say it should be divided by 2 and 3)\n",
    "num = list(map(int,input(\"Enter two numbers : \").split())) \n",
    "if (num[0]%2==0 and num[0]%3 ==0) and (num[1]%2==0 and num[1]%3==0): \n",
    "    print(f\"The number {num} is divisible by 6\")\n",
    "else:\n",
    "    print(f\"At least one of them {num} is not divisible by 6\")"
   ]
  },
  {
   "cell_type": "code",
   "execution_count": 4,
   "id": "c8292513",
   "metadata": {},
   "outputs": [
    {
     "name": "stdout",
     "output_type": "stream",
     "text": [
      "ENTER THE YEAR=2023\n",
      "it is not a leap year\n"
     ]
    }
   ],
   "source": [
    "#check whether a year is leap year or not\n",
    "a=int(input(\"ENTER THE YEAR=\"))\n",
    "if ( a % 4 == 0 and a % 100 != 0 ) or ( a % 400 == 0 ):\n",
    "    print(\"it is a leap year\")\n",
    "else:\n",
    "    print(\"it is not a leap year\")"
   ]
  },
  {
   "cell_type": "code",
   "execution_count": null,
   "id": "b13b15f3",
   "metadata": {},
   "outputs": [],
   "source": []
  }
 ],
 "metadata": {
  "kernelspec": {
   "display_name": "Python 3",
   "language": "python",
   "name": "python3"
  },
  "language_info": {
   "codemirror_mode": {
    "name": "ipython",
    "version": 3
   },
   "file_extension": ".py",
   "mimetype": "text/x-python",
   "name": "python",
   "nbconvert_exporter": "python",
   "pygments_lexer": "ipython3",
   "version": "3.8.8"
  }
 },
 "nbformat": 4,
 "nbformat_minor": 5
}
